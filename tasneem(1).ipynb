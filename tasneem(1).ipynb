{
 "cells": [
  {
   "cell_type": "code",
   "execution_count": 98,
   "metadata": {
    "collapsed": false
   },
   "outputs": [],
   "source": [
    "from pandas import read_html\n",
    "import pandas as pd\n",
    "import numpy as np\n",
    "import matplotlib.pyplot as plt\n",
    "import math \n",
    "#import proparty as prop \n"
   ]
  },
  {
   "cell_type": "code",
   "execution_count": 6,
   "metadata": {
    "collapsed": false
   },
   "outputs": [
    {
     "name": "stdout",
     "output_type": "stream",
     "text": [
      "    checking_balance  months_loan_duration          credit_history  \\\n",
      "0             < 0 DM                     6                critical   \n",
      "1         1 - 200 DM                    48                  repaid   \n",
      "2            unknown                    12                critical   \n",
      "3             < 0 DM                    42                  repaid   \n",
      "4             < 0 DM                    24                 delayed   \n",
      "5            unknown                    36                  repaid   \n",
      "6            unknown                    24                  repaid   \n",
      "7         1 - 200 DM                    36                  repaid   \n",
      "8            unknown                    12                  repaid   \n",
      "9         1 - 200 DM                    30                critical   \n",
      "10        1 - 200 DM                    12                  repaid   \n",
      "11            < 0 DM                    48                  repaid   \n",
      "12        1 - 200 DM                    12                  repaid   \n",
      "13            < 0 DM                    24                critical   \n",
      "14            < 0 DM                    15                  repaid   \n",
      "15            < 0 DM                    24                  repaid   \n",
      "16           unknown                    24                critical   \n",
      "17            < 0 DM                    30            fully repaid   \n",
      "18        1 - 200 DM                    24                  repaid   \n",
      "19           unknown                    24                  repaid   \n",
      "20           unknown                     9                critical   \n",
      "21            < 0 DM                     6                  repaid   \n",
      "22            < 0 DM                    10                critical   \n",
      "23        1 - 200 DM                    12                critical   \n",
      "24           unknown                    10                critical   \n",
      "25            < 0 DM                     6                  repaid   \n",
      "26           unknown                     6            fully repaid   \n",
      "27          > 200 DM                    12  fully repaid this bank   \n",
      "28        1 - 200 DM                     7                  repaid   \n",
      "29            < 0 DM                    60                 delayed   \n",
      "..               ...                   ...                     ...   \n",
      "970       1 - 200 DM                    15                  repaid   \n",
      "971          unknown                    24                  repaid   \n",
      "972           < 0 DM                    24  fully repaid this bank   \n",
      "973           < 0 DM                    60                  repaid   \n",
      "974          unknown                    30                critical   \n",
      "975         > 200 DM                    24                  repaid   \n",
      "976       1 - 200 DM                     6                  repaid   \n",
      "977       1 - 200 DM                    18                 delayed   \n",
      "978          unknown                    24                 delayed   \n",
      "979       1 - 200 DM                    15  fully repaid this bank   \n",
      "980       1 - 200 DM                    30                critical   \n",
      "981          unknown                    48                  repaid   \n",
      "982         > 200 DM                    21                  repaid   \n",
      "983           < 0 DM                    36                  repaid   \n",
      "984          unknown                    24                critical   \n",
      "985           < 0 DM                    15                critical   \n",
      "986         > 200 DM                    42            fully repaid   \n",
      "987          unknown                    13                  repaid   \n",
      "988           < 0 DM                    24                  repaid   \n",
      "989       1 - 200 DM                    24                critical   \n",
      "990          unknown                    12                critical   \n",
      "991          unknown                    15  fully repaid this bank   \n",
      "992           < 0 DM                    18                  repaid   \n",
      "993           < 0 DM                    36                  repaid   \n",
      "994          unknown                    12                  repaid   \n",
      "995          unknown                    12                  repaid   \n",
      "996           < 0 DM                    30                  repaid   \n",
      "997          unknown                    12                  repaid   \n",
      "998           < 0 DM                    45                  repaid   \n",
      "999       1 - 200 DM                    45                critical   \n",
      "\n",
      "        purpose  amount savings_balance employment_length  installment_rate  \\\n",
      "0      radio/tv    1169         unknown           > 7 yrs                 4   \n",
      "1      radio/tv    5951        < 100 DM         1 - 4 yrs                 2   \n",
      "2     education    2096        < 100 DM         4 - 7 yrs                 2   \n",
      "3     furniture    7882        < 100 DM         4 - 7 yrs                 2   \n",
      "4     car (new)    4870        < 100 DM         1 - 4 yrs                 3   \n",
      "5     education    9055         unknown         1 - 4 yrs                 2   \n",
      "6     furniture    2835   501 - 1000 DM           > 7 yrs                 3   \n",
      "7    car (used)    6948        < 100 DM         1 - 4 yrs                 2   \n",
      "8      radio/tv    3059       > 1000 DM         4 - 7 yrs                 2   \n",
      "9     car (new)    5234        < 100 DM        unemployed                 4   \n",
      "10    car (new)    1295        < 100 DM         0 - 1 yrs                 3   \n",
      "11     business    4308        < 100 DM         0 - 1 yrs                 3   \n",
      "12     radio/tv    1567        < 100 DM         1 - 4 yrs                 1   \n",
      "13    car (new)    1199        < 100 DM           > 7 yrs                 4   \n",
      "14    car (new)    1403        < 100 DM         1 - 4 yrs                 2   \n",
      "15     radio/tv    1282    101 - 500 DM         1 - 4 yrs                 4   \n",
      "16     radio/tv    2424         unknown           > 7 yrs                 4   \n",
      "17     business    8072         unknown         0 - 1 yrs                 2   \n",
      "18   car (used)   12579        < 100 DM           > 7 yrs                 4   \n",
      "19     radio/tv    3430   501 - 1000 DM           > 7 yrs                 3   \n",
      "20    car (new)    2134        < 100 DM         1 - 4 yrs                 4   \n",
      "21     radio/tv    2647   501 - 1000 DM         1 - 4 yrs                 2   \n",
      "22    car (new)    2241        < 100 DM         0 - 1 yrs                 1   \n",
      "23   car (used)    1804    101 - 500 DM         0 - 1 yrs                 3   \n",
      "24    furniture    2069         unknown         1 - 4 yrs                 2   \n",
      "25    furniture    1374        < 100 DM         1 - 4 yrs                 1   \n",
      "26     radio/tv     426        < 100 DM           > 7 yrs                 4   \n",
      "27     radio/tv     409       > 1000 DM         1 - 4 yrs                 3   \n",
      "28     radio/tv    2415        < 100 DM         1 - 4 yrs                 3   \n",
      "29     business    6836        < 100 DM           > 7 yrs                 3   \n",
      "..          ...     ...             ...               ...               ...   \n",
      "970     repairs    1514    101 - 500 DM         1 - 4 yrs                 4   \n",
      "971   car (new)    7393        < 100 DM         1 - 4 yrs                 1   \n",
      "972   car (new)    1193        < 100 DM        unemployed                 1   \n",
      "973    business    7297        < 100 DM           > 7 yrs                 4   \n",
      "974    radio/tv    2831        < 100 DM         1 - 4 yrs                 4   \n",
      "975    radio/tv    1258   501 - 1000 DM         1 - 4 yrs                 3   \n",
      "976    radio/tv     753        < 100 DM         1 - 4 yrs                 2   \n",
      "977    business    2427         unknown           > 7 yrs                 4   \n",
      "978   car (new)    2538        < 100 DM           > 7 yrs                 4   \n",
      "979   car (new)    1264    101 - 500 DM         1 - 4 yrs                 2   \n",
      "980   furniture    8386        < 100 DM         4 - 7 yrs                 2   \n",
      "981    business    4844        < 100 DM        unemployed                 3   \n",
      "982   car (new)    2923    101 - 500 DM         1 - 4 yrs                 1   \n",
      "983  car (used)    8229        < 100 DM         1 - 4 yrs                 2   \n",
      "984   furniture    2028        < 100 DM         4 - 7 yrs                 2   \n",
      "985   furniture    1433        < 100 DM         1 - 4 yrs                 4   \n",
      "986    business    6289        < 100 DM         0 - 1 yrs                 2   \n",
      "987    radio/tv    1409    101 - 500 DM        unemployed                 2   \n",
      "988  car (used)    6579        < 100 DM        unemployed                 4   \n",
      "989    radio/tv    1743        < 100 DM           > 7 yrs                 4   \n",
      "990   education    3565         unknown         0 - 1 yrs                 2   \n",
      "991    radio/tv    1569    101 - 500 DM           > 7 yrs                 4   \n",
      "992    radio/tv    1936         unknown         4 - 7 yrs                 2   \n",
      "993   furniture    3959        < 100 DM        unemployed                 4   \n",
      "994   car (new)    2390         unknown           > 7 yrs                 4   \n",
      "995   furniture    1736        < 100 DM         4 - 7 yrs                 3   \n",
      "996  car (used)    3857        < 100 DM         1 - 4 yrs                 4   \n",
      "997    radio/tv     804        < 100 DM           > 7 yrs                 4   \n",
      "998    radio/tv    1845        < 100 DM         1 - 4 yrs                 4   \n",
      "999  car (used)    4576    101 - 500 DM        unemployed                 3   \n",
      "\n",
      "    personal_status other_debtors           ...             \\\n",
      "0       single male          none           ...              \n",
      "1            female          none           ...              \n",
      "2       single male          none           ...              \n",
      "3       single male     guarantor           ...              \n",
      "4       single male          none           ...              \n",
      "5       single male          none           ...              \n",
      "6       single male          none           ...              \n",
      "7       single male          none           ...              \n",
      "8     divorced male          none           ...              \n",
      "9      married male          none           ...              \n",
      "10           female          none           ...              \n",
      "11           female          none           ...              \n",
      "12           female          none           ...              \n",
      "13      single male          none           ...              \n",
      "14           female          none           ...              \n",
      "15           female          none           ...              \n",
      "16      single male          none           ...              \n",
      "17      single male          none           ...              \n",
      "18           female          none           ...              \n",
      "19      single male          none           ...              \n",
      "20      single male          none           ...              \n",
      "21      single male          none           ...              \n",
      "22      single male          none           ...              \n",
      "23      single male          none           ...              \n",
      "24     married male          none           ...              \n",
      "25      single male          none           ...              \n",
      "26     married male          none           ...              \n",
      "27           female          none           ...              \n",
      "28      single male     guarantor           ...              \n",
      "29      single male          none           ...              \n",
      "..              ...           ...           ...              \n",
      "970     single male     guarantor           ...              \n",
      "971     single male          none           ...              \n",
      "972          female  co-applicant           ...              \n",
      "973     single male  co-applicant           ...              \n",
      "974          female          none           ...              \n",
      "975          female          none           ...              \n",
      "976          female     guarantor           ...              \n",
      "977     single male          none           ...              \n",
      "978     single male          none           ...              \n",
      "979    married male          none           ...              \n",
      "980     single male          none           ...              \n",
      "981     single male          none           ...              \n",
      "982          female          none           ...              \n",
      "983     single male          none           ...              \n",
      "984     single male          none           ...              \n",
      "985          female          none           ...              \n",
      "986   divorced male          none           ...              \n",
      "987          female          none           ...              \n",
      "988     single male          none           ...              \n",
      "989     single male          none           ...              \n",
      "990     single male          none           ...              \n",
      "991     single male          none           ...              \n",
      "992    married male          none           ...              \n",
      "993     single male          none           ...              \n",
      "994     single male          none           ...              \n",
      "995          female          none           ...              \n",
      "996   divorced male          none           ...              \n",
      "997     single male          none           ...              \n",
      "998     single male          none           ...              \n",
      "999     single male          none           ...              \n",
      "\n",
      "                     property age  installment_plan   housing  \\\n",
      "0                 real estate  67              none       own   \n",
      "1                 real estate  22              none       own   \n",
      "2                 real estate  49              none       own   \n",
      "3    building society savings  45              none  for free   \n",
      "4                unknown/none  53              none  for free   \n",
      "5                unknown/none  35              none  for free   \n",
      "6    building society savings  53              none       own   \n",
      "7                       other  35              none      rent   \n",
      "8                 real estate  61              none       own   \n",
      "9                       other  28              none       own   \n",
      "10                      other  25              none      rent   \n",
      "11   building society savings  24              none      rent   \n",
      "12                      other  22              none       own   \n",
      "13                      other  60              none       own   \n",
      "14                      other  28              none      rent   \n",
      "15                      other  32              none       own   \n",
      "16   building society savings  53              none       own   \n",
      "17                      other  25              bank       own   \n",
      "18               unknown/none  44              none  for free   \n",
      "19                      other  31              none       own   \n",
      "20                      other  48              none       own   \n",
      "21                real estate  44              none      rent   \n",
      "22                real estate  48              none      rent   \n",
      "23   building society savings  44              none       own   \n",
      "24                      other  26              none       own   \n",
      "25                real estate  36              bank       own   \n",
      "26                      other  39              none       own   \n",
      "27                real estate  42              none      rent   \n",
      "28                real estate  34              none       own   \n",
      "29               unknown/none  63              none       own   \n",
      "..                        ...  ..               ...       ...   \n",
      "970               real estate  22              none       own   \n",
      "971  building society savings  43              none       own   \n",
      "972              unknown/none  29              none      rent   \n",
      "973              unknown/none  36              none      rent   \n",
      "974                     other  33              none       own   \n",
      "975                     other  57              none       own   \n",
      "976               real estate  64              none       own   \n",
      "977  building society savings  42              none       own   \n",
      "978                     other  47              none       own   \n",
      "979  building society savings  25              none      rent   \n",
      "980  building society savings  49              none       own   \n",
      "981                     other  33              bank      rent   \n",
      "982                     other  28              bank       own   \n",
      "983  building society savings  26              none       own   \n",
      "984  building society savings  30              none       own   \n",
      "985  building society savings  25              none      rent   \n",
      "986  building society savings  33              none       own   \n",
      "987               real estate  64              none       own   \n",
      "988              unknown/none  29              none  for free   \n",
      "989  building society savings  48              none       own   \n",
      "990  building society savings  37              none       own   \n",
      "991                     other  34              bank       own   \n",
      "992                     other  23              none      rent   \n",
      "993  building society savings  30              none       own   \n",
      "994                     other  50              none       own   \n",
      "995               real estate  31              none       own   \n",
      "996  building society savings  40              none       own   \n",
      "997                     other  38              none       own   \n",
      "998              unknown/none  23              none  for free   \n",
      "999                     other  27              none       own   \n",
      "\n",
      "    existing_credits  default  dependents  telephone foreign_worker  \\\n",
      "0                  2        1           1        yes            yes   \n",
      "1                  1        2           1       none            yes   \n",
      "2                  1        1           2       none            yes   \n",
      "3                  1        1           2       none            yes   \n",
      "4                  2        2           2       none            yes   \n",
      "5                  1        1           2        yes            yes   \n",
      "6                  1        1           1       none            yes   \n",
      "7                  1        1           1        yes            yes   \n",
      "8                  1        1           1       none            yes   \n",
      "9                  2        2           1       none            yes   \n",
      "10                 1        2           1       none            yes   \n",
      "11                 1        2           1       none            yes   \n",
      "12                 1        1           1        yes            yes   \n",
      "13                 2        2           1       none            yes   \n",
      "14                 1        1           1       none            yes   \n",
      "15                 1        2           1       none            yes   \n",
      "16                 2        1           1       none            yes   \n",
      "17                 3        1           1       none            yes   \n",
      "18                 1        2           1        yes            yes   \n",
      "19                 1        1           2        yes            yes   \n",
      "20                 3        1           1        yes            yes   \n",
      "21                 1        1           2       none            yes   \n",
      "22                 2        1           2       none             no   \n",
      "23                 1        1           1       none            yes   \n",
      "24                 2        1           1       none             no   \n",
      "25                 1        1           1        yes            yes   \n",
      "26                 1        1           1       none            yes   \n",
      "27                 2        1           1       none            yes   \n",
      "28                 1        1           1       none            yes   \n",
      "29                 2        2           1        yes            yes   \n",
      "..               ...      ...         ...        ...            ...   \n",
      "970                1        1           1       none            yes   \n",
      "971                1        1           2       none            yes   \n",
      "972                2        2           1       none            yes   \n",
      "973                1        2           1       none            yes   \n",
      "974                1        1           1        yes            yes   \n",
      "975                1        1           1       none            yes   \n",
      "976                1        1           1       none            yes   \n",
      "977                2        1           1       none            yes   \n",
      "978                2        2           2       none            yes   \n",
      "979                1        2           1       none            yes   \n",
      "980                1        2           1       none            yes   \n",
      "981                1        2           1        yes            yes   \n",
      "982                1        1           1        yes            yes   \n",
      "983                1        2           2       none            yes   \n",
      "984                2        1           1       none            yes   \n",
      "985                2        1           1       none            yes   \n",
      "986                2        1           1       none            yes   \n",
      "987                1        1           1       none            yes   \n",
      "988                1        1           1        yes            yes   \n",
      "989                2        1           1       none            yes   \n",
      "990                2        1           2       none            yes   \n",
      "991                1        1           2       none            yes   \n",
      "992                2        1           1       none            yes   \n",
      "993                1        1           1        yes            yes   \n",
      "994                1        1           1        yes            yes   \n",
      "995                1        1           1       none            yes   \n",
      "996                1        1           1        yes            yes   \n",
      "997                1        1           1       none            yes   \n",
      "998                1        2           1        yes            yes   \n",
      "999                1        1           1       none            yes   \n",
      "\n",
      "                         job  \n",
      "0           skilled employee  \n",
      "1           skilled employee  \n",
      "2         unskilled resident  \n",
      "3           skilled employee  \n",
      "4           skilled employee  \n",
      "5         unskilled resident  \n",
      "6           skilled employee  \n",
      "7    mangement self-employed  \n",
      "8         unskilled resident  \n",
      "9    mangement self-employed  \n",
      "10          skilled employee  \n",
      "11          skilled employee  \n",
      "12          skilled employee  \n",
      "13        unskilled resident  \n",
      "14          skilled employee  \n",
      "15        unskilled resident  \n",
      "16          skilled employee  \n",
      "17          skilled employee  \n",
      "18   mangement self-employed  \n",
      "19          skilled employee  \n",
      "20          skilled employee  \n",
      "21          skilled employee  \n",
      "22        unskilled resident  \n",
      "23          skilled employee  \n",
      "24          skilled employee  \n",
      "25        unskilled resident  \n",
      "26        unskilled resident  \n",
      "27          skilled employee  \n",
      "28          skilled employee  \n",
      "29          skilled employee  \n",
      "..                       ...  \n",
      "970         skilled employee  \n",
      "971       unskilled resident  \n",
      "972  unemployed non-resident  \n",
      "973         skilled employee  \n",
      "974         skilled employee  \n",
      "975       unskilled resident  \n",
      "976         skilled employee  \n",
      "977         skilled employee  \n",
      "978       unskilled resident  \n",
      "979         skilled employee  \n",
      "980         skilled employee  \n",
      "981  mangement self-employed  \n",
      "982  mangement self-employed  \n",
      "983         skilled employee  \n",
      "984       unskilled resident  \n",
      "985         skilled employee  \n",
      "986         skilled employee  \n",
      "987         skilled employee  \n",
      "988  mangement self-employed  \n",
      "989       unskilled resident  \n",
      "990       unskilled resident  \n",
      "991       unskilled resident  \n",
      "992       unskilled resident  \n",
      "993  mangement self-employed  \n",
      "994         skilled employee  \n",
      "995       unskilled resident  \n",
      "996  mangement self-employed  \n",
      "997         skilled employee  \n",
      "998         skilled employee  \n",
      "999         skilled employee  \n",
      "\n",
      "[1000 rows x 21 columns]\n"
     ]
    }
   ],
   "source": [
    "# read the data from file \n",
    "CR = pd.read_csv(\"C:/Users/tasmem/Desktop/data.csv\") # CR : the name of the read data \n",
    "print(CR)   # print the data \n"
   ]
  },
  {
   "cell_type": "code",
   "execution_count": 36,
   "metadata": {
    "collapsed": false
   },
   "outputs": [
    {
     "data": {
      "text/plain": [
       "'    checking_balance  months_loan_duration          credit_history  \\\\\\n0             < 0 DM                     6                critical   \\n1         1 - 200 DM                    48                  repaid   \\n2            unknown                    12                critical   \\n3             < 0 DM                    42                  repaid   \\n4             < 0 DM                    24                 delayed   \\n5            unknown                    36                  repaid   \\n6            unknown                    24                  repaid   \\n7         1 - 200 DM                    36                  repaid   \\n8            unknown                    12                  repaid   \\n9         1 - 200 DM                    30                critical   \\n10        1 - 200 DM                    12                  repaid   \\n11            < 0 DM                    48                  repaid   \\n12        1 - 200 DM                    12                  repaid   \\n13            < 0 DM                    24                critical   \\n14            < 0 DM                    15                  repaid   \\n15            < 0 DM                    24                  repaid   \\n16           unknown                    24                critical   \\n17            < 0 DM                    30            fully repaid   \\n18        1 - 200 DM                    24                  repaid   \\n19           unknown                    24                  repaid   \\n20           unknown                     9                critical   \\n21            < 0 DM                     6                  repaid   \\n22            < 0 DM                    10                critical   \\n23        1 - 200 DM                    12                critical   \\n24           unknown                    10                critical   \\n25            < 0 DM                     6                  repaid   \\n26           unknown                     6            fully repaid   \\n27          > 200 DM                    12  fully repaid this bank   \\n28        1 - 200 DM                     7                  repaid   \\n29            < 0 DM                    60                 delayed   \\n..               ...                   ...                     ...   \\n970       1 - 200 DM                    15                  repaid   \\n971          unknown                    24                  repaid   \\n972           < 0 DM                    24  fully repaid this bank   \\n973           < 0 DM                    60                  repaid   \\n974          unknown                    30                critical   \\n975         > 200 DM                    24                  repaid   \\n976       1 - 200 DM                     6                  repaid   \\n977       1 - 200 DM                    18                 delayed   \\n978          unknown                    24                 delayed   \\n979       1 - 200 DM                    15  fully repaid this bank   \\n980       1 - 200 DM                    30                critical   \\n981          unknown                    48                  repaid   \\n982         > 200 DM                    21                  repaid   \\n983           < 0 DM                    36                  repaid   \\n984          unknown                    24                critical   \\n985           < 0 DM                    15                critical   \\n986         > 200 DM                    42            fully repaid   \\n987          unknown                    13                  repaid   \\n988           < 0 DM                    24                  repaid   \\n989       1 - 200 DM                    24                critical   \\n990          unknown                    12                critical   \\n991          unknown                    15  fully repaid this bank   \\n992           < 0 DM                    18                  repaid   \\n993           < 0 DM                    36                  repaid   \\n994          unknown                    12                  repaid   \\n995          unknown                    12                  repaid   \\n996           < 0 DM                    30                  repaid   \\n997          unknown                    12                  repaid   \\n998           < 0 DM                    45                  repaid   \\n999       1 - 200 DM                    45                critical   \\n\\n        purpose  amount savings_balance employment_length  installment_rate  \\\\\\n0      radio/tv    1169         unknown           > 7 yrs                 4   \\n1      radio/tv    5951        < 100 DM         1 - 4 yrs                 2   \\n2     education    2096        < 100 DM         4 - 7 yrs                 2   \\n3     furniture    7882        < 100 DM         4 - 7 yrs                 2   \\n4     car (new)    4870        < 100 DM         1 - 4 yrs                 3   \\n5     education    9055         unknown         1 - 4 yrs                 2   \\n6     furniture    2835   501 - 1000 DM           > 7 yrs                 3   \\n7    car (used)    6948        < 100 DM         1 - 4 yrs                 2   \\n8      radio/tv    3059       > 1000 DM         4 - 7 yrs                 2   \\n9     car (new)    5234        < 100 DM        unemployed                 4   \\n10    car (new)    1295        < 100 DM         0 - 1 yrs                 3   \\n11     business    4308        < 100 DM         0 - 1 yrs                 3   \\n12     radio/tv    1567        < 100 DM         1 - 4 yrs                 1   \\n13    car (new)    1199        < 100 DM           > 7 yrs                 4   \\n14    car (new)    1403        < 100 DM         1 - 4 yrs                 2   \\n15     radio/tv    1282    101 - 500 DM         1 - 4 yrs                 4   \\n16     radio/tv    2424         unknown           > 7 yrs                 4   \\n17     business    8072         unknown         0 - 1 yrs                 2   \\n18   car (used)   12579        < 100 DM           > 7 yrs                 4   \\n19     radio/tv    3430   501 - 1000 DM           > 7 yrs                 3   \\n20    car (new)    2134        < 100 DM         1 - 4 yrs                 4   \\n21     radio/tv    2647   501 - 1000 DM         1 - 4 yrs                 2   \\n22    car (new)    2241        < 100 DM         0 - 1 yrs                 1   \\n23   car (used)    1804    101 - 500 DM         0 - 1 yrs                 3   \\n24    furniture    2069         unknown         1 - 4 yrs                 2   \\n25    furniture    1374        < 100 DM         1 - 4 yrs                 1   \\n26     radio/tv     426        < 100 DM           > 7 yrs                 4   \\n27     radio/tv     409       > 1000 DM         1 - 4 yrs                 3   \\n28     radio/tv    2415        < 100 DM         1 - 4 yrs                 3   \\n29     business    6836        < 100 DM           > 7 yrs                 3   \\n..          ...     ...             ...               ...               ...   \\n970     repairs    1514    101 - 500 DM         1 - 4 yrs                 4   \\n971   car (new)    7393        < 100 DM         1 - 4 yrs                 1   \\n972   car (new)    1193        < 100 DM        unemployed                 1   \\n973    business    7297        < 100 DM           > 7 yrs                 4   \\n974    radio/tv    2831        < 100 DM         1 - 4 yrs                 4   \\n975    radio/tv    1258   501 - 1000 DM         1 - 4 yrs                 3   \\n976    radio/tv     753        < 100 DM         1 - 4 yrs                 2   \\n977    business    2427         unknown           > 7 yrs                 4   \\n978   car (new)    2538        < 100 DM           > 7 yrs                 4   \\n979   car (new)    1264    101 - 500 DM         1 - 4 yrs                 2   \\n980   furniture    8386        < 100 DM         4 - 7 yrs                 2   \\n981    business    4844        < 100 DM        unemployed                 3   \\n982   car (new)    2923    101 - 500 DM         1 - 4 yrs                 1   \\n983  car (used)    8229        < 100 DM         1 - 4 yrs                 2   \\n984   furniture    2028        < 100 DM         4 - 7 yrs                 2   \\n985   furniture    1433        < 100 DM         1 - 4 yrs                 4   \\n986    business    6289        < 100 DM         0 - 1 yrs                 2   \\n987    radio/tv    1409    101 - 500 DM        unemployed                 2   \\n988  car (used)    6579        < 100 DM        unemployed                 4   \\n989    radio/tv    1743        < 100 DM           > 7 yrs                 4   \\n990   education    3565         unknown         0 - 1 yrs                 2   \\n991    radio/tv    1569    101 - 500 DM           > 7 yrs                 4   \\n992    radio/tv    1936         unknown         4 - 7 yrs                 2   \\n993   furniture    3959        < 100 DM        unemployed                 4   \\n994   car (new)    2390         unknown           > 7 yrs                 4   \\n995   furniture    1736        < 100 DM         4 - 7 yrs                 3   \\n996  car (used)    3857        < 100 DM         1 - 4 yrs                 4   \\n997    radio/tv     804        < 100 DM           > 7 yrs                 4   \\n998    radio/tv    1845        < 100 DM         1 - 4 yrs                 4   \\n999  car (used)    4576    101 - 500 DM        unemployed                 3   \\n\\n    personal_status other_debtors           ...             \\\\\\n0       single male          none           ...              \\n1            female          none           ...              \\n2       single male          none           ...              \\n3       single male     guarantor           ...              \\n4       single male          none           ...              \\n5       single male          none           ...              \\n6       single male          none           ...              \\n7       single male          none           ...              \\n8     divorced male          none           ...              \\n9      married male          none           ...              \\n10           female          none           ...              \\n11           female          none           ...              \\n12           female          none           ...              \\n13      single male          none           ...              \\n14           female          none           ...              \\n15           female          none           ...              \\n16      single male          none           ...              \\n17      single male          none           ...              \\n18           female          none           ...              \\n19      single male          none           ...              \\n20      single male          none           ...              \\n21      single male          none           ...              \\n22      single male          none           ...              \\n23      single male          none           ...              \\n24     married male          none           ...              \\n25      single male          none           ...              \\n26     married male          none           ...              \\n27           female          none           ...              \\n28      single male     guarantor           ...              \\n29      single male          none           ...              \\n..              ...           ...           ...              \\n970     single male     guarantor           ...              \\n971     single male          none           ...              \\n972          female  co-applicant           ...              \\n973     single male  co-applicant           ...              \\n974          female          none           ...              \\n975          female          none           ...              \\n976          female     guarantor           ...              \\n977     single male          none           ...              \\n978     single male          none           ...              \\n979    married male          none           ...              \\n980     single male          none           ...              \\n981     single male          none           ...              \\n982          female          none           ...              \\n983     single male          none           ...              \\n984     single male          none           ...              \\n985          female          none           ...              \\n986   divorced male          none           ...              \\n987          female          none           ...              \\n988     single male          none           ...              \\n989     single male          none           ...              \\n990     single male          none           ...              \\n991     single male          none           ...              \\n992    married male          none           ...              \\n993     single male          none           ...              \\n994     single male          none           ...              \\n995          female          none           ...              \\n996   divorced male          none           ...              \\n997     single male          none           ...              \\n998     single male          none           ...              \\n999     single male          none           ...              \\n\\n                     property age  installment_plan   housing  \\\\\\n0                 real estate  67              none       own   \\n1                 real estate  22              none       own   \\n2                 real estate  49              none       own   \\n3    building society savings  45              none  for free   \\n4                unknown/none  53              none  for free   \\n5                unknown/none  35              none  for free   \\n6    building society savings  53              none       own   \\n7                       other  35              none      rent   \\n8                 real estate  61              none       own   \\n9                       other  28              none       own   \\n10                      other  25              none      rent   \\n11   building society savings  24              none      rent   \\n12                      other  22              none       own   \\n13                      other  60              none       own   \\n14                      other  28              none      rent   \\n15                      other  32              none       own   \\n16   building society savings  53              none       own   \\n17                      other  25              bank       own   \\n18               unknown/none  44              none  for free   \\n19                      other  31              none       own   \\n20                      other  48              none       own   \\n21                real estate  44              none      rent   \\n22                real estate  48              none      rent   \\n23   building society savings  44              none       own   \\n24                      other  26              none       own   \\n25                real estate  36              bank       own   \\n26                      other  39              none       own   \\n27                real estate  42              none      rent   \\n28                real estate  34              none       own   \\n29               unknown/none  63              none       own   \\n..                        ...  ..               ...       ...   \\n970               real estate  22              none       own   \\n971  building society savings  43              none       own   \\n972              unknown/none  29              none      rent   \\n973              unknown/none  36              none      rent   \\n974                     other  33              none       own   \\n975                     other  57              none       own   \\n976               real estate  64              none       own   \\n977  building society savings  42              none       own   \\n978                     other  47              none       own   \\n979  building society savings  25              none      rent   \\n980  building society savings  49              none       own   \\n981                     other  33              bank      rent   \\n982                     other  28              bank       own   \\n983  building society savings  26              none       own   \\n984  building society savings  30              none       own   \\n985  building society savings  25              none      rent   \\n986  building society savings  33              none       own   \\n987               real estate  64              none       own   \\n988              unknown/none  29              none  for free   \\n989  building society savings  48              none       own   \\n990  building society savings  37              none       own   \\n991                     other  34              bank       own   \\n992                     other  23              none      rent   \\n993  building society savings  30              none       own   \\n994                     other  50              none       own   \\n995               real estate  31              none       own   \\n996  building society savings  40              none       own   \\n997                     other  38              none       own   \\n998              unknown/none  23              none  for free   \\n999                     other  27              none       own   \\n\\n    existing_credits  default  dependents  telephone foreign_worker  \\\\\\n0                  2        1           1        yes            yes   \\n1                  1        2           1       none            yes   \\n2                  1        1           2       none            yes   \\n3                  1        1           2       none            yes   \\n4                  2        2           2       none            yes   \\n5                  1        1           2        yes            yes   \\n6                  1        1           1       none            yes   \\n7                  1        1           1        yes            yes   \\n8                  1        1           1       none            yes   \\n9                  2        2           1       none            yes   \\n10                 1        2           1       none            yes   \\n11                 1        2           1       none            yes   \\n12                 1        1           1        yes            yes   \\n13                 2        2           1       none            yes   \\n14                 1        1           1       none            yes   \\n15                 1        2           1       none            yes   \\n16                 2        1           1       none            yes   \\n17                 3        1           1       none            yes   \\n18                 1        2           1        yes            yes   \\n19                 1        1           2        yes            yes   \\n20                 3        1           1        yes            yes   \\n21                 1        1           2       none            yes   \\n22                 2        1           2       none             no   \\n23                 1        1           1       none            yes   \\n24                 2        1           1       none             no   \\n25                 1        1           1        yes            yes   \\n26                 1        1           1       none            yes   \\n27                 2        1           1       none            yes   \\n28                 1        1           1       none            yes   \\n29                 2        2           1        yes            yes   \\n..               ...      ...         ...        ...            ...   \\n970                1        1           1       none            yes   \\n971                1        1           2       none            yes   \\n972                2        2           1       none            yes   \\n973                1        2           1       none            yes   \\n974                1        1           1        yes            yes   \\n975                1        1           1       none            yes   \\n976                1        1           1       none            yes   \\n977                2        1           1       none            yes   \\n978                2        2           2       none            yes   \\n979                1        2           1       none            yes   \\n980                1        2           1       none            yes   \\n981                1        2           1        yes            yes   \\n982                1        1           1        yes            yes   \\n983                1        2           2       none            yes   \\n984                2        1           1       none            yes   \\n985                2        1           1       none            yes   \\n986                2        1           1       none            yes   \\n987                1        1           1       none            yes   \\n988                1        1           1        yes            yes   \\n989                2        1           1       none            yes   \\n990                2        1           2       none            yes   \\n991                1        1           2       none            yes   \\n992                2        1           1       none            yes   \\n993                1        1           1        yes            yes   \\n994                1        1           1        yes            yes   \\n995                1        1           1       none            yes   \\n996                1        1           1        yes            yes   \\n997                1        1           1       none            yes   \\n998                1        2           1        yes            yes   \\n999                1        1           1       none            yes   \\n\\n                         job  \\n0           skilled employee  \\n1           skilled employee  \\n2         unskilled resident  \\n3           skilled employee  \\n4           skilled employee  \\n5         unskilled resident  \\n6           skilled employee  \\n7    mangement self-employed  \\n8         unskilled resident  \\n9    mangement self-employed  \\n10          skilled employee  \\n11          skilled employee  \\n12          skilled employee  \\n13        unskilled resident  \\n14          skilled employee  \\n15        unskilled resident  \\n16          skilled employee  \\n17          skilled employee  \\n18   mangement self-employed  \\n19          skilled employee  \\n20          skilled employee  \\n21          skilled employee  \\n22        unskilled resident  \\n23          skilled employee  \\n24          skilled employee  \\n25        unskilled resident  \\n26        unskilled resident  \\n27          skilled employee  \\n28          skilled employee  \\n29          skilled employee  \\n..                       ...  \\n970         skilled employee  \\n971       unskilled resident  \\n972  unemployed non-resident  \\n973         skilled employee  \\n974         skilled employee  \\n975       unskilled resident  \\n976         skilled employee  \\n977         skilled employee  \\n978       unskilled resident  \\n979         skilled employee  \\n980         skilled employee  \\n981  mangement self-employed  \\n982  mangement self-employed  \\n983         skilled employee  \\n984       unskilled resident  \\n985         skilled employee  \\n986         skilled employee  \\n987         skilled employee  \\n988  mangement self-employed  \\n989       unskilled resident  \\n990       unskilled resident  \\n991       unskilled resident  \\n992       unskilled resident  \\n993  mangement self-employed  \\n994         skilled employee  \\n995       unskilled resident  \\n996  mangement self-employed  \\n997         skilled employee  \\n998         skilled employee  \\n999         skilled employee  \\n\\n[1000 rows x 21 columns]'"
      ]
     },
     "execution_count": 36,
     "metadata": {},
     "output_type": "execute_result"
    }
   ],
   "source": [
    "str (CR)"
   ]
  },
  {
   "cell_type": "code",
   "execution_count": null,
   "metadata": {
    "collapsed": false
   },
   "outputs": [],
   "source": []
  },
  {
   "cell_type": "code",
   "execution_count": 91,
   "metadata": {
    "collapsed": false
   },
   "outputs": [
    {
     "ename": "SyntaxError",
     "evalue": "invalid syntax (<ipython-input-91-2fbabeb76c4d>, line 5)",
     "output_type": "error",
     "traceback": [
      "\u001b[0;36m  File \u001b[0;32m\"<ipython-input-91-2fbabeb76c4d>\"\u001b[0;36m, line \u001b[0;32m5\u001b[0m\n\u001b[0;31m    def table (CR,default)\u001b[0m\n\u001b[0m                          ^\u001b[0m\n\u001b[0;31mSyntaxError\u001b[0m\u001b[0;31m:\u001b[0m invalid syntax\n"
     ]
    }
   ],
   "source": [
    "# from the data we have [1000 rows x 21 columns] that means we have 1000 loans saprated in 21 variable (attribute) .\n",
    "# so if we went to indicating whether the loans went into default or not ( defult means that the peroson who take the\n",
    "# loans has repayment in the right time or not)\n",
    "#def table ()\n",
    "def table (CR,default)\n",
    "round( prop.table(table(CR,default))*100) \n",
    "\n",
    "# 1 means that is no , 2 means that is yes\n",
    "(CR,default) = factor((CR,default), levels=c(1, 2), labels=c(\"No\", \"Yes\"))\n"
   ]
  },
  {
   "cell_type": "code",
   "execution_count": 92,
   "metadata": {
    "collapsed": false
   },
   "outputs": [
    {
     "ename": "SyntaxError",
     "evalue": "invalid syntax (<ipython-input-92-11f181fe2ff1>, line 2)",
     "output_type": "error",
     "traceback": [
      "\u001b[0;36m  File \u001b[0;32m\"<ipython-input-92-11f181fe2ff1>\"\u001b[0;36m, line \u001b[0;32m2\u001b[0m\n\u001b[0;31m    def table (CR,checking_balance)\u001b[0m\n\u001b[0m                                   ^\u001b[0m\n\u001b[0;31mSyntaxError\u001b[0m\u001b[0;31m:\u001b[0m invalid syntax\n"
     ]
    }
   ],
   "source": [
    "#if we went to cheak the balance as a predicat default\n",
    "def table (CR,checking_balance)\n",
    "round(table(CR,checking_balance))\n",
    "\n",
    "#the output must tell me about the numbers of the balance under it type \n",
    "# the type that i have is 4 type which is (  0 DM,> 200 DM ,1 - 200 DM ,unknown)the output is the number of each one of them  \n"
   ]
  },
  {
   "cell_type": "code",
   "execution_count": 93,
   "metadata": {
    "collapsed": false
   },
   "outputs": [
    {
     "ename": "SyntaxError",
     "evalue": "invalid syntax (<ipython-input-93-bcec95a1a822>, line 2)",
     "output_type": "error",
     "traceback": [
      "\u001b[0;36m  File \u001b[0;32m\"<ipython-input-93-bcec95a1a822>\"\u001b[0;36m, line \u001b[0;32m2\u001b[0m\n\u001b[0;31m    def table (CR,savings_balance)\u001b[0m\n\u001b[0m                                  ^\u001b[0m\n\u001b[0;31mSyntaxError\u001b[0m\u001b[0;31m:\u001b[0m invalid syntax\n"
     ]
    }
   ],
   "source": [
    "#if we went to cheak the saving_balance as a predicat default (how many commitment or many money that he save in his account)\n",
    "def table (CR,savings_balance)\n",
    "round(table(CR,savings_balance))\n",
    "\n",
    "#the output must tell me about the numbers of the saving_balance under it type \n",
    "# the type that i have is 5 type which is (  < 100 DM , > 1000 DM  ,101 - 500 DM ,501 - 1000 DM, unknown )the output is the number of each one of them  \n"
   ]
  },
  {
   "cell_type": "code",
   "execution_count": 76,
   "metadata": {
    "collapsed": false
   },
   "outputs": [
    {
     "ename": "SyntaxError",
     "evalue": "invalid syntax (<ipython-input-76-60957e740551>, line 5)",
     "output_type": "error",
     "traceback": [
      "\u001b[0;36m  File \u001b[0;32m\"<ipython-input-76-60957e740551>\"\u001b[0;36m, line \u001b[0;32m5\u001b[0m\n\u001b[0;31m    aes(x=checking_balance))+\u001b[0m\n\u001b[0m                              ^\u001b[0m\n\u001b[0;31mSyntaxError\u001b[0m\u001b[0;31m:\u001b[0m invalid syntax\n"
     ]
    }
   ],
   "source": [
    "# here i went to find the histograme of the balance and \n",
    "#i went to marige the checking balances with the default by a counter that tell me the realtion btw the ((yes ,no) \n",
    "# and the type of CB to determine the number of each one by histogram)\n",
    "# checking balances (means like the salary or how many that he have in his account)\n",
    "pyplot(data=CR,\n",
    "aes(x=checking_balance))+ \n",
    "geom_bar() +\n",
    "ggtitle(\"Histogram of checking balances\")+\n",
    "facet_wrap(~default)"
   ]
  },
  {
   "cell_type": "code",
   "execution_count": null,
   "metadata": {
    "collapsed": false
   },
   "outputs": [],
   "source": [
    "\n",
    "# here i went to find the histograme of the Saving_balance and \n",
    "#i went to marige the saving_balances with the default by a counter that tell me the realtion btw the ((yes ,no) \n",
    "# and the type of CB to determine the number of each one by histogram)\n",
    "\n",
    "pyplot(data=CR,\n",
    "aes(x=savings_balance)) +\n",
    "geom_bar() +\n",
    "ggtitle(\"Histogram of savings balances \") +\n",
    "facet_wrap(~default)\n"
   ]
  },
  {
   "cell_type": "code",
   "execution_count": 97,
   "metadata": {
    "collapsed": false
   },
   "outputs": [
    {
     "ename": "SyntaxError",
     "evalue": "invalid syntax (<ipython-input-97-79bd2194bc1e>, line 2)",
     "output_type": "error",
     "traceback": [
      "\u001b[0;36m  File \u001b[0;32m\"<ipython-input-97-79bd2194bc1e>\"\u001b[0;36m, line \u001b[0;32m2\u001b[0m\n\u001b[0;31m    def summary()\u001b[0m\n\u001b[0m                 ^\u001b[0m\n\u001b[0;31mSyntaxError\u001b[0m\u001b[0;31m:\u001b[0m invalid syntax\n"
     ]
    }
   ],
   "source": [
    " \n",
    "def summary()\n",
    "summary (CR ,amount )\n"
   ]
  },
  {
   "cell_type": "code",
   "execution_count": 78,
   "metadata": {
    "collapsed": false
   },
   "outputs": [
    {
     "ename": "SyntaxError",
     "evalue": "invalid syntax (<ipython-input-78-8240fdc1928e>, line 3)",
     "output_type": "error",
     "traceback": [
      "\u001b[0;36m  File \u001b[0;32m\"<ipython-input-78-8240fdc1928e>\"\u001b[0;36m, line \u001b[0;32m3\u001b[0m\n\u001b[0;31m    aes(x=amount)) +\u001b[0m\n\u001b[0m                    ^\u001b[0m\n\u001b[0;31mSyntaxError\u001b[0m\u001b[0;31m:\u001b[0m invalid syntax\n"
     ]
    }
   ],
   "source": [
    "#here i went to find the histogram of loan amounts that he can take from the banks by marige it with the default \n",
    "# if u look to the data ( it containe the min ,max and mid ) \n",
    "pyplot(data=CR,\n",
    "aes(x=amount)) +\n",
    "geom_histogram() +\n",
    "scale_x_log10() +  # to have a good scale for the GRAPH \n",
    "ggtitle(\"Histogram of loan amounts \") +\n",
    "facet_wrap(~default)"
   ]
  },
  {
   "cell_type": "code",
   "execution_count": null,
   "metadata": {
    "collapsed": true
   },
   "outputs": [],
   "source": []
  }
 ],
 "metadata": {
  "anaconda-cloud": {},
  "kernelspec": {
   "display_name": "Python [conda root]",
   "language": "python",
   "name": "conda-root-py"
  },
  "language_info": {
   "codemirror_mode": {
    "name": "ipython",
    "version": 3
   },
   "file_extension": ".py",
   "mimetype": "text/x-python",
   "name": "python",
   "nbconvert_exporter": "python",
   "pygments_lexer": "ipython3",
   "version": "3.5.2"
  }
 },
 "nbformat": 4,
 "nbformat_minor": 1
}
